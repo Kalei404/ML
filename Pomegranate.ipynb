{
  "nbformat": 4,
  "nbformat_minor": 0,
  "metadata": {
    "colab": {
      "name": "Pomegranate.ipynb",
      "provenance": [],
      "authorship_tag": "ABX9TyMW/0Bp9o2oK8Vp7CdXxYoe",
      "include_colab_link": true
    },
    "kernelspec": {
      "name": "python3",
      "display_name": "Python 3"
    },
    "language_info": {
      "name": "python"
    }
  },
  "cells": [
    {
      "cell_type": "markdown",
      "metadata": {
        "id": "view-in-github",
        "colab_type": "text"
      },
      "source": [
        "<a href=\"https://colab.research.google.com/github/Kalei404/ML/blob/main/Pomegranate.ipynb\" target=\"_parent\"><img src=\"https://colab.research.google.com/assets/colab-badge.svg\" alt=\"Open In Colab\"/></a>"
      ]
    },
    {
      "cell_type": "code",
      "execution_count": null,
      "metadata": {
        "id": "YHXvWOgFSSxj"
      },
      "outputs": [],
      "source": [
        "import numpy as np\n",
        "\n",
        "# Perceptron implementation\n",
        "\n",
        "class CustomPerceptron(object):\n",
        "\n",
        "  \n",
        "  def __init__(self, n_iterations=100, random_state=1, learning_rate=0.01):\n",
        "\n",
        "      self.n_iterations = n_iterations\n",
        "      self.random_state = random_state\n",
        "      self.learning_rate = learning_rate\n",
        "    \n",
        "\n",
        "  def fit(self, X, y):\n",
        "\n",
        "        rgen = np.random.RandomState(self.random_state)\n",
        "\n",
        "        self.coef_ = rgen.normal(loc=0.0, scale=0.01, size=1 + X.shape[1])\n",
        "\n",
        "        for _ in range(self.n_iterations):\n",
        "\n",
        "            for xi, expected_value in zip(X, y):\n",
        "\n",
        "                predicted_value = self.predict(xi)\n",
        "\n",
        "                self.coef_[1:] = self.coef_[1:] + self.learning_rate * (expected_value - predicted_value) * xi\n",
        "\n",
        "                self.coef_[0] = self.coef_[0] + self.learning_rate * (expected_value - predicted_value) * 1\n",
        "\n",
        "  def net_input(self, X):\n",
        "            weighted_sum = np.dot(X, self.coef_[1:]) + self.coef_[0]\n",
        "            return weighted_sum\n",
        "\n",
        "    \n",
        "\n",
        "  def activation_function(self, X):\n",
        "            weighted_sum = self.net_input(X)\n",
        "\n",
        "            return np.where(weighted_sum >= 0.0, 1, 0) \n",
        "\n",
        "  def predict(self, X):\n",
        "        return self.activation_function(X) \n",
        "\n",
        "  def score(self, X, y):\n",
        "\n",
        "        misclassified_data_count = 0\n",
        "\n",
        "        for xi, target in zip(X, y):\n",
        "\n",
        "            output = self.predict(xi)\n",
        "\n",
        "            if(target != output):\n",
        "\n",
        "                misclassified_data_count += 1\n",
        "\n",
        "        total_data_count = len(X)\n",
        "\n",
        "        self.score_ = (total_data_count - misclassified_data_count)/total_data_count\n",
        "\n",
        "        return self.score_"
      ]
    },
    {
      "cell_type": "code",
      "source": [
        "import numpy as np\n",
        "from sklearn import datasets\n",
        "from sklearn.model_selection import train_test_split\n",
        "\n",
        "#\n",
        "\n",
        "# Load the data set\n",
        "\n",
        "#\n",
        "\n",
        "bc = datasets.load_breast_cancer()\n",
        "\n",
        "X = bc.data\n",
        "\n",
        "y = bc.target\n",
        "\n",
        "\n",
        "# Create training and test split\n",
        "\n",
        "\n",
        "X_train, X_test, y_train, y_test = train_test_split(X, y, test_size=0.3, random_state=42, stratify=y)\n",
        "\n",
        "# Instantiate CustomPerceptron\n",
        "\n",
        "prcptrn = CustomPerceptron()\n",
        "\n",
        "# Fit the model\n",
        "\n",
        "prcptrn.fit(X_train, y_train)\n",
        "\n",
        "# Score the model\n",
        "\n",
        "prcptrn.score(X_test, y_test), prcptrn.score(X_train, y_train)"
      ],
      "metadata": {
        "colab": {
          "base_uri": "https://localhost:8080/"
        },
        "id": "Nlvoz4yPWoEb",
        "outputId": "9292ac7e-ba03-4489-99b0-408d7f523359"
      },
      "execution_count": null,
      "outputs": [
        {
          "output_type": "execute_result",
          "data": {
            "text/plain": [
              "(0.9064327485380117, 0.9296482412060302)"
            ]
          },
          "metadata": {},
          "execution_count": 3
        }
      ]
    }
  ]
}