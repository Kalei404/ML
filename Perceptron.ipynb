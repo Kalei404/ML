{
  "nbformat": 4,
  "nbformat_minor": 0,
  "metadata": {
    "colab": {
      "name": "Perceptron.ipynb",
      "provenance": [],
      "authorship_tag": "ABX9TyOZEBsehO42T/qwO+uJ1Daf",
      "include_colab_link": true
    },
    "kernelspec": {
      "name": "python3",
      "display_name": "Python 3"
    },
    "language_info": {
      "name": "python"
    }
  },
  "cells": [
    {
      "cell_type": "markdown",
      "metadata": {
        "id": "view-in-github",
        "colab_type": "text"
      },
      "source": [
        "<a href=\"https://colab.research.google.com/github/Kalei404/ML/blob/main/Perceptron.ipynb\" target=\"_parent\"><img src=\"https://colab.research.google.com/assets/colab-badge.svg\" alt=\"Open In Colab\"/></a>"
      ]
    },
    {
      "cell_type": "code",
      "execution_count": 3,
      "metadata": {
        "colab": {
          "base_uri": "https://localhost:8080/"
        },
        "id": "piyWhQR3RR_Q",
        "outputId": "8e2feb09-d21d-4801-a14d-14ade43b7fe9"
      },
      "outputs": [
        {
          "output_type": "stream",
          "name": "stdout",
          "text": [
            "0.04000000000000001\n",
            "0.12000000000000002\n",
            "0.6\n",
            "output: 1\n"
          ]
        }
      ],
      "source": [
        "x_input = [0.1,0.4,0.8]\n",
        "w_weights = [0.4,0.2,0.6]\n",
        "threshold = 0.5\n",
        "\n",
        "def step(weighted_sum):\n",
        "  if weighted_sum > threshold:\n",
        "     return 1\n",
        "  else:\n",
        "      return 0\n",
        "\n",
        "def perceptron():\n",
        "    weighted_sum = 0\n",
        "    for x,w in zip(x_input, w_weights):\n",
        "      weighted_sum += x*w\n",
        "      print(weighted_sum)\n",
        "\n",
        "    return step(weighted_sum)\n",
        "\n",
        "output = perceptron()\n",
        "print(\"output: \" + str(output))\n"
      ]
    }
  ]
}